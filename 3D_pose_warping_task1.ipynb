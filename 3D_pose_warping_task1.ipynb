{
  "nbformat": 4,
  "nbformat_minor": 0,
  "metadata": {
    "colab": {
      "name": "3D_pose_warping_task1.ipynb",
      "provenance": [],
      "collapsed_sections": []
    },
    "kernelspec": {
      "display_name": "Python 3",
      "name": "python3"
    },
    "language_info": {
      "name": "python"
    },
    "accelerator": "GPU"
  },
  "cells": [
    {
      "cell_type": "code",
      "metadata": {
        "id": "pCTYeJF1aHEo"
      },
      "source": [
        "import tensorflow as tf\n",
        "\n",
        "from tensorflow import keras\n",
        "\n",
        "from tensorflow.keras.models import Sequential\n",
        "from tensorflow.keras.layers import Dense, Dropout, Activation, Flatten, Conv2D, MaxPooling2D\n",
        "\n",
        "import numpy as np\n",
        "from numpy import asarray\n",
        "import pandas as pd\n",
        "import random\n",
        "import matplotlib.pyplot as plt"
      ],
      "execution_count": 1,
      "outputs": []
    },
    {
      "cell_type": "markdown",
      "metadata": {
        "id": "7KL1bBnWWVm7"
      },
      "source": [
        "# Dataset exploration"
      ]
    },
    {
      "cell_type": "markdown",
      "metadata": {
        "id": "feFLBN8Aenvu"
      },
      "source": [
        "\n",
        "*   Explore the **In-shop Clothes Retrieval Benchmark** of the **DeepFashion** dataset\n",
        "http://mmlab.ie.cuhk.edu.hk/projects/DeepFashion/InShopRetrieval.html\n",
        "*   Import the dataset in `Google Colab` instead of downloading the whole dataset locally\n",
        "*   Visualize some samples from the dataset\n",
        "*   Look for variations and correlations in the dataset\n",
        "*   Use the `matplotlib` and `seaborn` library to visualize data\n",
        "\n"
      ]
    },
    {
      "cell_type": "code",
      "metadata": {
        "id": "zqYTPAeKGNoG"
      },
      "source": [
        "!unzip \"/content/drive/MyDrive/img.zip\" -d \"/content/drive/MyDrive/imgdataset\""
      ],
      "execution_count": null,
      "outputs": []
    },
    {
      "cell_type": "code",
      "metadata": {
        "id": "95tw9lKSLqLp"
      },
      "source": [
        "img_data = tf.keras.preprocessing.image_dataset_from_directory(\n",
        "    '/content/drive/MyDrive/imgdataset/img',\n",
        "    image_size=(256, 256)\n",
        ")"
      ],
      "execution_count": null,
      "outputs": []
    },
    {
      "cell_type": "code",
      "metadata": {
        "id": "Bs-xWYHPHfom"
      },
      "source": [
        "from google.colab import drive\n",
        "drive.mount('/content/drive')"
      ],
      "execution_count": null,
      "outputs": []
    },
    {
      "cell_type": "code",
      "metadata": {
        "id": "agb-W2P241It"
      },
      "source": [
        "plt.figure(figsize=(15, 15))\n",
        "for images,labels in img_data.take(1):\n",
        "  for i in range(9):\n",
        "    ax = plt.subplot(3, 3, i + 1)\n",
        "    plt.imshow(images[i].numpy().astype(\"uint8\"))\n",
        "    plt.axis(\"off\")\n",
        "  \n",
        "plt.show()"
      ],
      "execution_count": null,
      "outputs": []
    },
    {
      "cell_type": "code",
      "metadata": {
        "id": "7qdpgjYs-f6S"
      },
      "source": [
        "pip install -U seaborn-image"
      ],
      "execution_count": null,
      "outputs": []
    },
    {
      "cell_type": "code",
      "metadata": {
        "id": "Bkqmqm8KDsEi"
      },
      "source": [
        "import seaborn_image as isns\n",
        "isns.load_image()\n",
        "\n",
        "g = isns.ImageGrid(cells, slices=[10, 20, 30, 40])"
      ],
      "execution_count": null,
      "outputs": []
    },
    {
      "cell_type": "markdown",
      "metadata": {
        "id": "d7TM8utGWfyl"
      },
      "source": [
        "# ResNET Architecture"
      ]
    },
    {
      "cell_type": "markdown",
      "metadata": {
        "id": "76QT9itSVz99"
      },
      "source": [
        "# New Section"
      ]
    },
    {
      "cell_type": "markdown",
      "metadata": {
        "id": "Ws2Z2KTVUb16"
      },
      "source": [
        "\n",
        "\n",
        "*   Read about **ResNET** architecture and advantage of residual blocks\n",
        "*   Build a simple 6-layer ConvNET and train it on **CIFAR-10** dataset\n",
        "*   Introduce residual blocks in the above model and compare the results \n",
        "*   Use the `tensorflow` library to import ResNET model with imgaenet weights\n",
        "*   Change some parameters and document the results\n",
        "*   Visualize the output of some layers and add/delete layers to see the effect of individual layers on the model accuracy\n",
        "\n"
      ]
    },
    {
      "cell_type": "markdown",
      "metadata": {
        "id": "SaQzCwCZmKSR"
      },
      "source": [
        "# ResNET50 Model"
      ]
    },
    {
      "cell_type": "code",
      "metadata": {
        "id": "HjhZMUFC7Znm"
      },
      "source": [
        "import tensorflow as tf\n",
        "from keras import layers\n",
        "import keras.applications.resnet50\n",
        "from tensorflow.keras.applications.resnet50 import ResNet50\n",
        "from tensorflow.keras.applications.resnet50 import preprocess_input  \n"
      ],
      "execution_count": 29,
      "outputs": []
    },
    {
      "cell_type": "code",
      "metadata": {
        "id": "iWH4L98Dvo2Y"
      },
      "source": [
        "from tensorflow.keras import datasets\n",
        "tf.keras.datasets.cifar10.load_data()\n",
        "(x_train,y_train),(x_test,y_test) = datasets.cifar10.load_data()"
      ],
      "execution_count": 30,
      "outputs": []
    },
    {
      "cell_type": "code",
      "metadata": {
        "id": "Be1WjHgTkcnZ"
      },
      "source": [
        "print(x_train.shape)"
      ],
      "execution_count": null,
      "outputs": []
    },
    {
      "cell_type": "code",
      "metadata": {
        "id": "tBbuaohWyxXx"
      },
      "source": [
        "resnet50 = ResNet50(\n",
        "  include_top=True,\n",
        "  weights='imagenet',input_tensor=None,\n",
        "  input_shape=None,\n",
        "  classifier_activation='softmax',\n",
        ")\n",
        "\n",
        "resnet50.trainable = False\n",
        "\n",
        "resnet_model = keras.Sequential([\n",
        "    layers.UpSampling2D(size=(7, 7)),\n",
        "    resnet50,\n",
        "    layers.Dense(128, activation='relu'),\n",
        "    layers.Dense(128, activation='relu'),\n",
        "    layers.Dense(64, activation='relu'),\n",
        "    layers.Dense(10, activation='softmax'),\n",
        "])"
      ],
      "execution_count": 32,
      "outputs": []
    },
    {
      "cell_type": "code",
      "metadata": {
        "id": "vZkFk3U_4Rho"
      },
      "source": [
        "resnet_model.compile(optimizer='adam', loss=tf.keras.losses.SparseCategoricalCrossentropy(), metrics=['accuracy'])"
      ],
      "execution_count": 33,
      "outputs": []
    },
    {
      "cell_type": "code",
      "metadata": {
        "id": "HB-E6i1yY_hC"
      },
      "source": [
        "resnet_model.fit(x_train, y_train, epochs=10)"
      ],
      "execution_count": null,
      "outputs": []
    },
    {
      "cell_type": "code",
      "metadata": {
        "id": "8K964QC5rG_o"
      },
      "source": [
        "test_loss, test_acc = resnet_model.evaluate(x_train, y_train, verbose=1) \n",
        "\n",
        "print('Test accuracy:', test_acc)"
      ],
      "execution_count": null,
      "outputs": []
    },
    {
      "cell_type": "code",
      "metadata": {
        "id": "tFIdRnXscLTt"
      },
      "source": [
        "resnet_model.summary()"
      ],
      "execution_count": null,
      "outputs": []
    },
    {
      "cell_type": "markdown",
      "metadata": {
        "id": "gohSDPMdlsQl"
      },
      "source": [
        "# Residual Blocks added"
      ]
    },
    {
      "cell_type": "code",
      "metadata": {
        "id": "LAq-eRjAk1de"
      },
      "source": [
        "from tensorflow import Tensor\n",
        "from tensorflow.keras.layers import Input, Conv2D, ReLU, BatchNormalization, Add, AveragePooling2D, Flatten, Dense\n",
        "from tensorflow.keras.models import Model\n",
        "from tensorflow.keras.datasets import cifar10"
      ],
      "execution_count": 21,
      "outputs": []
    },
    {
      "cell_type": "code",
      "metadata": {
        "id": "7ReKKVQuk276"
      },
      "source": [
        "(x_train, y_train), (x_test, y_test) = cifar10.load_data()"
      ],
      "execution_count": 22,
      "outputs": []
    },
    {
      "cell_type": "code",
      "metadata": {
        "id": "c2ShtUQlk7rt"
      },
      "source": [
        "def relu_bn(inputs: Tensor) -> Tensor:\n",
        "    relu = ReLU()(inputs)\n",
        "    bn = BatchNormalization()(relu)\n",
        "    return bn\n",
        "\n",
        "def residual_block(x: Tensor, downsample: bool, filters: int, kernel_size: int = 3) -> Tensor:\n",
        "    y = Conv2D(kernel_size=kernel_size,\n",
        "               strides= (1 if not downsample else 2),\n",
        "               filters=filters,\n",
        "               padding=\"same\")(x)\n",
        "    y = relu_bn(y)\n",
        "    y = Conv2D(kernel_size=kernel_size,\n",
        "               strides=1,\n",
        "               filters=filters,\n",
        "               padding=\"same\")(y)\n",
        "  \n",
        "    if downsample:\n",
        "        x = Conv2D(kernel_size=1,\n",
        "                   strides=2,\n",
        "                   filters=filters,\n",
        "                   padding=\"same\")(x)\n",
        "    out = Add()([x, y])\n",
        "    out = relu_bn(out)\n",
        "    return out\n",
        "\n",
        "def create_res_net():\n",
        "    \n",
        "    inputs = Input(shape=(32, 32, 3))\n",
        "    \n",
        "    t = BatchNormalization()(inputs)\n",
        "    t = Conv2D(kernel_size=3,\n",
        "               strides=1,\n",
        "               filters=64,\n",
        "               padding=\"same\")(t)\n",
        "    t = relu_bn(t)\n",
        "    \n",
        "    num_blocks_list = [1]\n",
        "    for i in range(len(num_blocks_list)):\n",
        "        num_blocks = num_blocks_list[i]\n",
        "        for j in range(num_blocks):\n",
        "            t = residual_block(t, downsample=(j==0 and i!=0), filters=64)\n",
        "    \n",
        "    t = AveragePooling2D(4)(t)\n",
        "    t = Flatten()(t)\n",
        "    outputs = Dense(10, activation='softmax')(t)\n",
        "    \n",
        "    model = Model(inputs, outputs)\n",
        "\n",
        "    model.compile(\n",
        "        optimizer='adam',loss='sparse_categorical_crossentropy',metrics=['accuracy']\n",
        "    )\n",
        "\n",
        "    return model\n"
      ],
      "execution_count": 23,
      "outputs": []
    },
    {
      "cell_type": "code",
      "metadata": {
        "id": "CxO5d6voroV3"
      },
      "source": [
        "model = create_res_net()"
      ],
      "execution_count": 24,
      "outputs": []
    },
    {
      "cell_type": "code",
      "metadata": {
        "id": "jLGlVOZ40YG2"
      },
      "source": [
        "model.fit(x_train, y_train, epochs=15)"
      ],
      "execution_count": null,
      "outputs": []
    },
    {
      "cell_type": "code",
      "metadata": {
        "id": "TVhfZCNyjcUq"
      },
      "source": [
        "test_loss, test_acc = model.evaluate(x_train, y_train, verbose=1) \n",
        "\n",
        "print('Test accuracy:', test_acc)"
      ],
      "execution_count": null,
      "outputs": []
    },
    {
      "cell_type": "code",
      "metadata": {
        "id": "5ZJwTm6E3alt"
      },
      "source": [
        "model.summary()"
      ],
      "execution_count": null,
      "outputs": []
    }
  ]
}